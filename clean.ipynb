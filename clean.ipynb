{
 "cells": [
  {
   "cell_type": "markdown",
   "metadata": {},
   "source": [
    "LOAD LIBRARIES"
   ]
  },
  {
   "cell_type": "code",
   "execution_count": 1,
   "metadata": {},
   "outputs": [],
   "source": [
    "import pandas as pd\n",
    "import numpy as np\n",
    "from scipy.stats import trim_mean\n",
    "import matplotlib.pyplot as plt\n",
    "import seaborn as sns\n",
    "import warnings \n",
    "warnings.filterwarnings(\"ignore\")"
   ]
  },
  {
   "cell_type": "markdown",
   "metadata": {},
   "source": [
    "Load CSV function"
   ]
  },
  {
   "cell_type": "code",
   "execution_count": 2,
   "metadata": {},
   "outputs": [],
   "source": [
    "def csv_imported(x, t= None):\n",
    "    return pd.read_csv(x, sep = t)"
   ]
  },
  {
   "cell_type": "markdown",
   "metadata": {},
   "source": [
    "Summary function"
   ]
  },
  {
   "cell_type": "code",
   "execution_count": 3,
   "metadata": {},
   "outputs": [],
   "source": [
    "def data_summary(y, c = None, d = None, e = None):\n",
    "    operations = ['corr_matrix', 'describe', 'dtypes', 'head', 'histogram', 'info', 'nnan', 'ncolumns', 'nrows', 'nunique', \n",
    "    'outliers_count', 'pcounts', 'skew_kurt', 'trim_mean', 'vcounts', 'all', 'options']\n",
    "    \n",
    "    if d == 'options':\n",
    "        print(operations)\n",
    "        \n",
    "    if isinstance(d, str):\n",
    "        d = [d]\n",
    "    \n",
    "    for operation in d:\n",
    "        if operation not in operations:\n",
    "            print(f'Invalid operation: {operation}. Choose one of: {operations}')\n",
    "        if operation =='nrows' or operation == 'all':\n",
    "            print('Rows: ' + str(y.shape[0]))\n",
    "        if operation =='ncolumns' or operation == 'all':\n",
    "            print('Columns: ' + str(y.shape[1]))\n",
    "        if operation == 'nunique' or operation == 'all':\n",
    "            print('Nº unique values:')\n",
    "            if c is None:\n",
    "                print(y.nunique())\n",
    "            else:\n",
    "                print(y[c].nunique())\n",
    "        if operation == 'dtypes' or operation == 'all':\n",
    "            print('Datatypes:')\n",
    "            print(y.dtypes)\n",
    "        if operation == 'nnan' or operation == 'all':\n",
    "            print('Nº of NaN:')\n",
    "            if c is None:\n",
    "                print(y.isna().sum())\n",
    "            else:\n",
    "                print(y[c].isna().sum())   \n",
    "        if operation == 'head' or operation == 'all':\n",
    "            print(y.head())\n",
    "        if operation == 'info' or operation == 'all':\n",
    "            print('Information:')\n",
    "            y.info()\n",
    "        if operation == 'vcounts' and c is not None:\n",
    "            print('Value counts:')\n",
    "            print(y[c].value_counts())\n",
    "        if operation == 'pcounts' and c is not None:\n",
    "            print('Proportions counts:')\n",
    "            print(y[c].value_counts(normalize = True))\n",
    "        if operation == 'describe' or operation == 'all':\n",
    "            print('Describe:')\n",
    "            print(y.describe(include = 'all'))\n",
    "        if operation == 'trim_mean':\n",
    "            print('Trim mean:')\n",
    "            print(trim_mean(y[c], proportiontocut = e))\n",
    "        if operation == 'corr_matrix' or operation == 'all':\n",
    "            print('Correlation Matrix:')\n",
    "            correlation_matrix = y.corr()\n",
    "            plt.figure(figsize=(6, 4))\n",
    "            sns.heatmap(correlation_matrix, annot=True, cmap='coolwarm', fmt=\".2f\", cbar=True)\n",
    "            plt.show()\n",
    "        if operation == 'skew_kurt' or operation == 'all':\n",
    "            print('Skewness:')\n",
    "            print(y.skew(numeric_only=True))\n",
    "            print('')\n",
    "            print('Kurtosis:')\n",
    "            print(y.kurt(numeric_only=True))\n",
    "        if operation == 'outliers_count' or operation == 'all':\n",
    "            print('Outliers count:')\n",
    "            Q1 = y.quantile(0.25)\n",
    "            Q3 = y.quantile(0.75)\n",
    "            IQR = Q3 - Q1\n",
    "            outliers = ((y < (Q1 - 1.5 * IQR)) | (y > (Q3 + 1.5 * IQR))).sum()\n",
    "            print(outliers)\n",
    "        if operation == 'histogram' or operation == 'all':\n",
    "            print('Histograms:')\n",
    "            y.hist(figsize=(10, 6))\n",
    "            plt.show()\n"
   ]
  },
  {
   "cell_type": "markdown",
   "metadata": {},
   "source": [
    "Cleaner function"
   ]
  },
  {
   "cell_type": "code",
   "execution_count": 4,
   "metadata": {},
   "outputs": [],
   "source": [
    "def cleaner(y, c= None, d = None, e = None, new = None, old = None):\n",
    "    operations = ['datetime', 'dropcol', 'dropna', 'dtype', 'fillna', 'lower', 'rename', 'replace', 'scale', 'standard', 'upper', 'options']\n",
    "\n",
    "    y = y.drop_duplicates()\n",
    "    y = y.loc[:,y.isnull().mean() <= 0.5]\n",
    "    if d == 'options':\n",
    "        print(operations)\n",
    "        \n",
    "    if isinstance(d, str):\n",
    "        d = [d]\n",
    "    \n",
    "    for operation in d:\n",
    "        if operation not in operations:\n",
    "            print(f'Invalid operation: {operation}. Choose one of: {operations}')\n",
    "        if operation =='dropcol' and c is not None:\n",
    "            y.drop(columns = c, inplace = True)\n",
    "        if operation =='upper' and c is not None:\n",
    "            y[c] = y[c].str.upper()\n",
    "        if operation =='lower' and c is not None:\n",
    "            y[c] = y[c].str.lower()\n",
    "        if operation =='fillna' and c is not None:\n",
    "            if e == 'mode':\n",
    "                y[c].fillna(y[c].mode()[0], inplace = True)\n",
    "            elif e =='mean':\n",
    "                y[c].fillna(y[c].mean(), inplace = True)\n",
    "            elif e =='median':\n",
    "                y[c].fillna(y[c].median(), inplace = True)\n",
    "            else:\n",
    "                y[c].fillna(e, inplace = True)\n",
    "        if operation =='dropna':\n",
    "            y.dropna(inplace = True)\n",
    "        if operation =='standard' and c is not None:\n",
    "            y[c] = (y[c] - y[c].mean()) / y[c].std()\n",
    "        if operation =='scale' and c is not None:\n",
    "            y[c] = (y[c] - y[c].min()) / (y[c].max() - y[c].min())\n",
    "        if operation =='rename' and c is not None and e is not None:\n",
    "            y.rename(columns = {c: e}, inplace = True)\n",
    "        if operation =='dtype' and c is not None and e is not None:\n",
    "            y[c] = y[c].astype(e)\n",
    "        if operation =='datetime' and c is not None:\n",
    "            pd.to_datetime(y[c])\n",
    "        if operation =='replace' and c is not None:\n",
    "            y[c].replace(old, new, inplace = True)\n",
    "        if operation == 'outlier' and c is not None:\n",
    "            q1 = y[c].quantile(0.25)\n",
    "            q3 = y[c].quantile(0.75)\n",
    "            iqr = q3 - q1\n",
    "            y = y[(y[c] >= (q1 - 1.5 * iqr)) & (y[c] <= (q3 + 1.5 * iqr))]\n",
    "        if operation == 'bin' and c is not None and e is not None:\n",
    "            y[c] = pd.cut(y[c], bins = e, labels =  False)\n",
    "        if operation == 'sort' and c is not None and e is not None:\n",
    "            y.sort_values(by = c, ascending = e, inplace = True)\n",
    "        if operation == 'reorder' and c is not None:\n",
    "            y = y[c + [col for col in y.columns if col not in c]]\n",
    "    return y\n",
    "\n"
   ]
  },
  {
   "cell_type": "markdown",
   "metadata": {},
   "source": [
    "SAVE CSV function"
   ]
  },
  {
   "cell_type": "code",
   "execution_count": 5,
   "metadata": {},
   "outputs": [],
   "source": [
    "def csv_saving(data, x):\n",
    "    df = pd.DataFrame(data)\n",
    "    df.to_csv(x, index=False)"
   ]
  }
 ],
 "metadata": {
  "kernelspec": {
   "display_name": "base",
   "language": "python",
   "name": "python3"
  },
  "language_info": {
   "codemirror_mode": {
    "name": "ipython",
    "version": 3
   },
   "file_extension": ".py",
   "mimetype": "text/x-python",
   "name": "python",
   "nbconvert_exporter": "python",
   "pygments_lexer": "ipython3",
   "version": "3.12.7"
  }
 },
 "nbformat": 4,
 "nbformat_minor": 2
}
